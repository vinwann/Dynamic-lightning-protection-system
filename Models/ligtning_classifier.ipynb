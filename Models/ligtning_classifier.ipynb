{
  "nbformat": 4,
  "nbformat_minor": 0,
  "metadata": {
    "colab": {
      "provenance": [],
      "gpuType": "T4"
    },
    "kernelspec": {
      "name": "python3",
      "display_name": "Python 3"
    },
    "language_info": {
      "name": "python"
    },
    "accelerator": "GPU"
  },
  "cells": [
    {
      "cell_type": "code",
      "execution_count": 180,
      "metadata": {
        "id": "OfCm7d7U3j3v"
      },
      "outputs": [],
      "source": [
        "import tensorflow as tf\n",
        "import pandas as pd\n",
        "import numpy as np\n",
        "import seaborn as sns\n",
        "import matplotlib.pyplot as plt\n",
        "from tensorflow.keras.layers import Normalization,Dense,InputLayer\n",
        "from tensorflow.keras.losses import SparseCategoricalCrossentropy\n",
        "from tensorflow.keras.metrics import RootMeanSquaredError\n",
        "from sklearn.preprocessing import LabelEncoder,OneHotEncoder\n",
        "from sklearn.model_selection import train_test_split\n",
        "from sklearn.metrics import classification_report,confusion_matrix\n",
        "\n",
        "from tensorflow.keras.optimizers import Adam"
      ]
    },
    {
      "cell_type": "code",
      "source": [
        "\n",
        "data = pd.read_csv(\"weee_data.csv\", \",\")\n",
        "\n",
        "x_data = tf.constant(data.iloc[:, 3:75])\n",
        "\n",
        "y_data = data.iloc[:, 75:]\n",
        "print(x_data.shape)\n",
        "\n",
        "print(y_data[:5])"
      ],
      "metadata": {
        "colab": {
          "base_uri": "https://localhost:8080/"
        },
        "id": "kxAr84xi3y1e",
        "outputId": "1a770e20-7468-4769-a93f-b6254313b252"
      },
      "execution_count": 181,
      "outputs": [
        {
          "output_type": "stream",
          "name": "stderr",
          "text": [
            "<ipython-input-181-92410fd16f04>:1: FutureWarning: In a future version of pandas all arguments of read_csv except for the argument 'filepath_or_buffer' will be keyword-only.\n",
            "  data = pd.read_csv(\"weee_data.csv\", \",\")\n"
          ]
        },
        {
          "output_type": "stream",
          "name": "stdout",
          "text": [
            "(6137, 72)\n",
            "  type  phase\n",
            "0    N      0\n",
            "1    N      0\n",
            "2    N      0\n",
            "3    N      0\n",
            "4    N      0\n"
          ]
        }
      ]
    },
    {
      "cell_type": "code",
      "source": [
        "x_data_np = x_data.numpy()\n",
        "\n",
        "\n",
        "x_train_temp, x_test, y_train_temp, y_test = train_test_split(x_data_np, y_data, test_size=0.2, stratify=y_data, random_state=42)\n",
        "\n",
        "\n",
        "x_train, x_val, y_train, y_val = train_test_split(x_train_temp, y_train_temp, test_size=0.25, stratify=y_train_temp, random_state=42)\n",
        "\n",
        "print(\"Training set:\", x_train.shape, y_train.shape)\n",
        "print(\"Validation set:\", x_val.shape, y_val.shape)\n",
        "print(\"Test set:\", x_test.shape, y_test.shape)\n",
        "print(y_test[:5])"
      ],
      "metadata": {
        "colab": {
          "base_uri": "https://localhost:8080/"
        },
        "id": "dD8d1Zwh43Uq",
        "outputId": "d9e68f30-7f56-4d81-f5e5-620641684e17"
      },
      "execution_count": 182,
      "outputs": [
        {
          "output_type": "stream",
          "name": "stdout",
          "text": [
            "Training set: (3681, 72) (3681, 2)\n",
            "Validation set: (1228, 72) (1228, 2)\n",
            "Test set: (1228, 72) (1228, 2)\n",
            "     type  phase\n",
            "5890    L      3\n",
            "3482    L      2\n",
            "1166    O      0\n",
            "2991    L      2\n",
            "722     O      0\n"
          ]
        }
      ]
    },
    {
      "cell_type": "code",
      "source": [
        "encoder = OneHotEncoder(sparse_output=False, drop='first')\n",
        "one_hot_encoded = encoder.fit_transform(y_train.values)\n",
        "y_train = tf.constant(pd.DataFrame(one_hot_encoded, columns=encoder.get_feature_names_out(['type', 'phase'])))\n",
        "print(y_train.shape)\n",
        "print(y_train[5])"
      ],
      "metadata": {
        "colab": {
          "base_uri": "https://localhost:8080/"
        },
        "id": "ShPxfxM596uy",
        "outputId": "a59cdcbc-0065-4a4d-9b74-09f1d77804c0"
      },
      "execution_count": 183,
      "outputs": [
        {
          "output_type": "stream",
          "name": "stdout",
          "text": [
            "(3681, 5)\n",
            "tf.Tensor([0. 1. 0. 0. 0.], shape=(5,), dtype=float64)\n"
          ]
        }
      ]
    },
    {
      "cell_type": "code",
      "source": [
        "encoder = OneHotEncoder(sparse_output=False, drop='first')\n",
        "one_hot_encoded = encoder.fit_transform(y_val.values)\n",
        "y_val = tf.constant(pd.DataFrame(one_hot_encoded, columns=encoder.get_feature_names_out(['type', 'phase'])))\n",
        "print(y_val.shape)\n",
        "print(y_val[5])"
      ],
      "metadata": {
        "colab": {
          "base_uri": "https://localhost:8080/"
        },
        "id": "e2uGfA5r-5HG",
        "outputId": "e87931fb-dbae-4fb5-d24c-4eae030917ff"
      },
      "execution_count": 184,
      "outputs": [
        {
          "output_type": "stream",
          "name": "stdout",
          "text": [
            "(1228, 5)\n",
            "tf.Tensor([0. 0. 0. 0. 1.], shape=(5,), dtype=float64)\n"
          ]
        }
      ]
    },
    {
      "cell_type": "code",
      "source": [
        "encoder = OneHotEncoder(sparse_output=False, drop='first')\n",
        "one_hot_encoded = encoder.fit_transform(y_test.values)\n",
        "y_test = tf.constant(pd.DataFrame(one_hot_encoded, columns=encoder.get_feature_names_out(['type', 'phase'])))\n",
        "print(y_test.shape)\n",
        "print(y_test[5])"
      ],
      "metadata": {
        "colab": {
          "base_uri": "https://localhost:8080/"
        },
        "id": "fC6hfI9k_QOO",
        "outputId": "4b807941-6966-4784-be82-123900df818a"
      },
      "execution_count": 185,
      "outputs": [
        {
          "output_type": "stream",
          "name": "stdout",
          "text": [
            "(1228, 5)\n",
            "tf.Tensor([0. 0. 1. 0. 0.], shape=(5,), dtype=float64)\n"
          ]
        }
      ]
    },
    {
      "cell_type": "code",
      "source": [
        "classes, counts = np.unique(np.argmax(y_train, axis=1), return_counts=True)\n",
        "class_distribution = counts / len(y_train)\n",
        "\n",
        "# Print the class distribution\n",
        "for cls, count, dist in zip(classes, counts, class_distribution):\n",
        "    print(f\"Class {cls} (Count: {count}): {dist:.2%}\")"
      ],
      "metadata": {
        "colab": {
          "base_uri": "https://localhost:8080/"
        },
        "id": "LusMPklH6vvq",
        "outputId": "71014f3d-a21b-43c6-97b9-452dd1ca7e8c"
      },
      "execution_count": 201,
      "outputs": [
        {
          "output_type": "stream",
          "name": "stdout",
          "text": [
            "Class 0 (Count: 133): 3.61%\n",
            "Class 1 (Count: 909): 24.69%\n",
            "Class 2 (Count: 716): 19.45%\n",
            "Class 3 (Count: 618): 16.79%\n",
            "Class 4 (Count: 1305): 35.45%\n"
          ]
        }
      ]
    },
    {
      "cell_type": "code",
      "source": [
        "classes, counts = np.unique(np.argmax(y_val, axis=1), return_counts=True)\n",
        "class_distribution = counts / len(y_val)\n",
        "\n",
        "# Print the class distribution\n",
        "for cls, count, dist in zip(classes, counts, class_distribution):\n",
        "    print(f\"Class {cls} (Count: {count}): {dist:.2%}\")"
      ],
      "metadata": {
        "colab": {
          "base_uri": "https://localhost:8080/"
        },
        "id": "qphYwkyV68oS",
        "outputId": "666f95a1-2975-43b3-9007-76be84c5c7ec"
      },
      "execution_count": 200,
      "outputs": [
        {
          "output_type": "stream",
          "name": "stdout",
          "text": [
            "Class 0 (Count: 44): 3.58%\n",
            "Class 1 (Count: 303): 24.67%\n",
            "Class 2 (Count: 239): 19.46%\n",
            "Class 3 (Count: 207): 16.86%\n",
            "Class 4 (Count: 435): 35.42%\n"
          ]
        }
      ]
    },
    {
      "cell_type": "code",
      "source": [
        "classes, counts = np.unique(np.argmax(y_test, axis=1), return_counts=True)\n",
        "class_distribution = counts / len(y_test)\n",
        "\n",
        "# Print the class distribution\n",
        "for cls, count, dist in zip(classes, counts, class_distribution):\n",
        "    print(f\"Class {cls} (Count: {count}): {dist:.2%}\")"
      ],
      "metadata": {
        "colab": {
          "base_uri": "https://localhost:8080/"
        },
        "id": "SKLYBrvS7E9Y",
        "outputId": "a4898563-3b2e-4d53-c126-acce73e2d687"
      },
      "execution_count": 202,
      "outputs": [
        {
          "output_type": "stream",
          "name": "stdout",
          "text": [
            "Class 0 (Count: 45): 3.66%\n",
            "Class 1 (Count: 303): 24.67%\n",
            "Class 2 (Count: 239): 19.46%\n",
            "Class 3 (Count: 206): 16.78%\n",
            "Class 4 (Count: 435): 35.42%\n"
          ]
        }
      ]
    },
    {
      "cell_type": "code",
      "source": [
        "normalizer = Normalization()\n",
        "normalizer.adapt(x_train)\n",
        "normalizer(x_data)[:5]"
      ],
      "metadata": {
        "colab": {
          "base_uri": "https://localhost:8080/"
        },
        "id": "plEmbD99DC5M",
        "outputId": "4efbf4b3-2972-433d-df28-411e7b9321da"
      },
      "execution_count": 189,
      "outputs": [
        {
          "output_type": "execute_result",
          "data": {
            "text/plain": [
              "<tf.Tensor: shape=(5, 72), dtype=float32, numpy=\n",
              "array([[-0.97564656, -1.0388919 ,  1.0267825 , -1.0592604 , -1.2181901 ,\n",
              "        -0.61567783,  1.0576979 ,  1.2345537 ,  0.4618201 , -0.09091907,\n",
              "        -0.0301913 , -6.1287036 , -0.94661796, -1.032032  ,  1.0129871 ,\n",
              "        -1.090723  , -1.2227392 , -0.6348092 ,  1.0787811 ,  1.2109743 ,\n",
              "         0.45130473,  0.30538568,  0.18432392,  1.5954281 , -0.9990257 ,\n",
              "        -1.0752865 ,  1.0594077 , -1.0940124 , -1.2341781 , -0.45787597,\n",
              "         1.111834  ,  1.2490693 ,  0.6321146 , -0.22251049, -0.12285378,\n",
              "         4.7131915 , -0.93433446, -0.9963407 ,  0.984116  , -0.98942035,\n",
              "        -1.1459795 , -0.495215  ,  1.002448  ,  1.1497633 ,  0.4018089 ,\n",
              "        -0.16815762, -0.09774472, -6.5303235 , -0.92493993, -1.0032005 ,\n",
              "         0.98545957, -1.0594947 , -1.1872675 , -0.581458  ,  1.0301996 ,\n",
              "         1.1527925 ,  0.34424737,  0.34924376,  0.20847256, -0.8974829 ,\n",
              "        -0.9290202 , -1.0095373 ,  0.991534  , -1.008415  , -1.1493164 ,\n",
              "        -0.3961016 ,  1.0307173 ,  1.1549833 ,  0.5327086 , -0.16336992,\n",
              "        -0.10661996,  5.019365  ],\n",
              "       [-0.97564656, -1.0388919 ,  1.0267825 , -1.0592623 , -1.2181938 ,\n",
              "        -0.75599056,  1.0576997 ,  1.234557  ,  0.7165214 , -0.190399  ,\n",
              "        -0.10083378, -3.800663  , -0.94661796, -1.032032  ,  1.0129871 ,\n",
              "        -1.090725  , -1.2227424 , -0.94516015,  1.0787833 ,  1.210978  ,\n",
              "         0.6534359 ,  0.2622181 ,  0.15914866, -6.312141  , -0.9990257 ,\n",
              "        -1.0752865 ,  1.0594077 , -1.0940131 , -1.2341796 , -0.70023364,\n",
              "         1.1118358 ,  1.2490727 ,  0.96313703, -0.07312273, -0.02937435,\n",
              "         5.328198  , -0.93433446, -0.9963407 ,  0.984116  , -0.9894223 ,\n",
              "        -1.1459832 , -0.64107716,  1.0024499 ,  1.1497664 ,  0.6726689 ,\n",
              "        -0.2507179 , -0.15608512, -3.4315019 , -0.92493993, -1.0032005 ,\n",
              "         0.98545957, -1.0594968 , -1.187271  , -0.91627085,  1.0302013 ,\n",
              "         1.1527953 ,  0.5944665 ,  0.27835426,  0.1667822 , -6.687534  ,\n",
              "        -0.9290202 , -1.0095373 ,  0.991534  , -1.0084159 , -1.1493181 ,\n",
              "        -0.65296465,  1.030719  ,  1.1549866 ,  0.8821837 , -0.02332333,\n",
              "        -0.0081724 ,  5.2099466 ],\n",
              "       [-0.97564656, -1.0388919 ,  1.0267825 , -1.0592604 , -1.2181901 ,\n",
              "        -0.61567783,  1.0576979 ,  1.2345537 ,  0.4618201 , -0.09091907,\n",
              "        -0.0301913 , -6.1287036 , -0.94661796, -1.032032  ,  1.0129871 ,\n",
              "        -1.090723  , -1.2227392 , -0.6348092 ,  1.0787811 ,  1.2109743 ,\n",
              "         0.45130473,  0.30538568,  0.18432392,  1.5954281 , -0.9990257 ,\n",
              "        -1.0752865 ,  1.0594077 , -1.0940124 , -1.2341781 , -0.45787597,\n",
              "         1.111834  ,  1.2490693 ,  0.6321146 , -0.22251049, -0.12285378,\n",
              "         4.7131915 , -0.93433446, -0.9963407 ,  0.984116  , -0.98942035,\n",
              "        -1.1459795 , -0.495215  ,  1.002448  ,  1.1497633 ,  0.4018089 ,\n",
              "        -0.16815762, -0.09774472, -6.5303235 , -0.92493993, -1.0032005 ,\n",
              "         0.98545957, -1.0594947 , -1.1872675 , -0.581458  ,  1.0301996 ,\n",
              "         1.1527925 ,  0.34424737,  0.34924376,  0.20847256, -0.8974829 ,\n",
              "        -0.9290202 , -1.0095373 ,  0.991534  , -1.008415  , -1.1493164 ,\n",
              "        -0.3961016 ,  1.0307173 ,  1.1549833 ,  0.5327086 , -0.16336992,\n",
              "        -0.10661996,  5.019365  ],\n",
              "       [-0.97564656, -1.0388919 ,  1.0267825 , -1.0592623 , -1.2181938 ,\n",
              "        -0.75599056,  1.0576997 ,  1.234557  ,  0.7165214 , -0.190399  ,\n",
              "        -0.10083378, -3.800663  , -0.94661796, -1.032032  ,  1.0129871 ,\n",
              "        -1.090725  , -1.2227424 , -0.94516015,  1.0787833 ,  1.210978  ,\n",
              "         0.6534359 ,  0.2622181 ,  0.15914866, -6.312141  , -0.9990257 ,\n",
              "        -1.0752865 ,  1.0594077 , -1.0940131 , -1.2341796 , -0.70023364,\n",
              "         1.1118358 ,  1.2490727 ,  0.96313703, -0.07312273, -0.02937435,\n",
              "         5.328198  , -0.93433446, -0.9963407 ,  0.984116  , -0.9894223 ,\n",
              "        -1.1459832 , -0.64107716,  1.0024499 ,  1.1497664 ,  0.6726689 ,\n",
              "        -0.2507179 , -0.15608512, -3.4315019 , -0.92493993, -1.0032005 ,\n",
              "         0.98545957, -1.0594968 , -1.187271  , -0.91627085,  1.0302013 ,\n",
              "         1.1527953 ,  0.5944665 ,  0.27835426,  0.1667822 , -6.687534  ,\n",
              "        -0.9290202 , -1.0095373 ,  0.991534  , -1.0084159 , -1.1493181 ,\n",
              "        -0.65296465,  1.030719  ,  1.1549866 ,  0.8821837 , -0.02332333,\n",
              "        -0.0081724 ,  5.2099466 ],\n",
              "       [-0.97564656, -1.0388919 ,  1.0267825 , -1.0592604 , -1.2181901 ,\n",
              "        -0.61567783,  1.0576979 ,  1.2345537 ,  0.4618201 , -0.09091907,\n",
              "        -0.0301913 , -6.1287036 , -0.94661796, -1.032032  ,  1.0129871 ,\n",
              "        -1.090723  , -1.2227392 , -0.6348092 ,  1.0787811 ,  1.2109743 ,\n",
              "         0.45130473,  0.30538568,  0.18432392,  1.5954281 , -0.9990257 ,\n",
              "        -1.0752865 ,  1.0594077 , -1.0940124 , -1.2341781 , -0.45787597,\n",
              "         1.111834  ,  1.2490693 ,  0.6321146 , -0.22251049, -0.12285378,\n",
              "         4.7131915 , -0.93433446, -0.9963407 ,  0.984116  , -0.98942035,\n",
              "        -1.1459795 , -0.495215  ,  1.002448  ,  1.1497633 ,  0.4018089 ,\n",
              "        -0.16815762, -0.09774472, -6.5303235 , -0.92493993, -1.0032005 ,\n",
              "         0.98545957, -1.0594947 , -1.1872675 , -0.581458  ,  1.0301996 ,\n",
              "         1.1527925 ,  0.34424737,  0.34924376,  0.20847256, -0.8974829 ,\n",
              "        -0.9290202 , -1.0095373 ,  0.991534  , -1.008415  , -1.1493164 ,\n",
              "        -0.3961016 ,  1.0307173 ,  1.1549833 ,  0.5327086 , -0.16336992,\n",
              "        -0.10661996,  5.019365  ]], dtype=float32)>"
            ]
          },
          "metadata": {},
          "execution_count": 189
        }
      ]
    },
    {
      "cell_type": "code",
      "source": [
        "model = tf.keras.Sequential([\n",
        "    InputLayer(input_shape = (72,)),\n",
        "    normalizer,\n",
        "    Dense(144, activation = \"relu\"),\n",
        "    Dense(144, activation = \"relu\"),\n",
        "    Dense(5, activation = \"softmax\"),\n",
        "    #Dense(3),\n",
        "])\n",
        "\n",
        "\n",
        "model.summary()"
      ],
      "metadata": {
        "colab": {
          "base_uri": "https://localhost:8080/"
        },
        "id": "YkCrS8bzDG5S",
        "outputId": "5ceabebb-231e-4053-d0b2-e52061c065eb"
      },
      "execution_count": 190,
      "outputs": [
        {
          "output_type": "stream",
          "name": "stdout",
          "text": [
            "Model: \"sequential_9\"\n",
            "_________________________________________________________________\n",
            " Layer (type)                Output Shape              Param #   \n",
            "=================================================================\n",
            " normalization_8 (Normaliza  (None, 72)                145       \n",
            " tion)                                                           \n",
            "                                                                 \n",
            " dense_27 (Dense)            (None, 144)               10512     \n",
            "                                                                 \n",
            " dense_28 (Dense)            (None, 144)               20880     \n",
            "                                                                 \n",
            " dense_29 (Dense)            (None, 5)                 725       \n",
            "                                                                 \n",
            "=================================================================\n",
            "Total params: 32262 (126.03 KB)\n",
            "Trainable params: 32117 (125.46 KB)\n",
            "Non-trainable params: 145 (584.00 Byte)\n",
            "_________________________________________________________________\n"
          ]
        }
      ]
    },
    {
      "cell_type": "code",
      "source": [
        "tf.keras.utils.plot_model(model,to_file = \"model.png\",show_shapes = True)"
      ],
      "metadata": {
        "colab": {
          "base_uri": "https://localhost:8080/",
          "height": 533
        },
        "id": "nwPgyuQbDSmF",
        "outputId": "b82bf11f-5dd1-4a9d-b13f-dc5e8bfdcc8f"
      },
      "execution_count": 191,
      "outputs": [
        {
          "output_type": "execute_result",
          "data": {
            "image/png": "[encoded data removed]",
            "text/plain": [
              "<IPython.core.display.Image object>"
            ]
          },
          "metadata": {},
          "execution_count": 191
        }
      ]
    },
    {
      "cell_type": "code",
      "source": [
        "model.compile(optimizer='adam', loss='categorical_crossentropy', metrics=['accuracy'])\n"
      ],
      "metadata": {
        "id": "s5cGiBR0DWAH"
      },
      "execution_count": 192,
      "outputs": []
    },
    {
      "cell_type": "code",
      "source": [
        "history = model.fit(x_train, y_train, epochs=100, verbose=1, validation_data=(x_val, y_val))"
      ],
      "metadata": {
        "colab": {
          "base_uri": "https://localhost:8080/"
        },
        "id": "0shO6AbTDZuo",
        "outputId": "1ec49c48-32bf-4859-9817-a08abe95a8a3"
      },
      "execution_count": 193,
      "outputs": [
        {
          "output_type": "stream",
          "name": "stdout",
          "text": [
            "Epoch 1/100\n",
            "116/116 [==============================] - 1s 4ms/step - loss: 0.4295 - accuracy: 0.8422 - val_loss: 0.1517 - val_accuracy: 0.9625\n",
            "Epoch 2/100\n",
            "116/116 [==============================] - 0s 3ms/step - loss: 0.1117 - accuracy: 0.9663 - val_loss: 0.0843 - val_accuracy: 0.9788\n",
            "Epoch 3/100\n",
            "116/116 [==============================] - 0s 3ms/step - loss: 0.0652 - accuracy: 0.9815 - val_loss: 0.0584 - val_accuracy: 0.9813\n",
            "Epoch 4/100\n",
            "116/116 [==============================] - 0s 3ms/step - loss: 0.0434 - accuracy: 0.9875 - val_loss: 0.0467 - val_accuracy: 0.9862\n",
            "Epoch 5/100\n",
            "116/116 [==============================] - 0s 3ms/step - loss: 0.0243 - accuracy: 0.9929 - val_loss: 0.0681 - val_accuracy: 0.9788\n",
            "Epoch 6/100\n",
            "116/116 [==============================] - 0s 3ms/step - loss: 0.0188 - accuracy: 0.9970 - val_loss: 0.0320 - val_accuracy: 0.9910\n",
            "Epoch 7/100\n",
            "116/116 [==============================] - 0s 3ms/step - loss: 0.0115 - accuracy: 0.9981 - val_loss: 0.0265 - val_accuracy: 0.9935\n",
            "Epoch 8/100\n",
            "116/116 [==============================] - 0s 3ms/step - loss: 0.0065 - accuracy: 0.9995 - val_loss: 0.0211 - val_accuracy: 0.9967\n",
            "Epoch 9/100\n",
            "116/116 [==============================] - 0s 3ms/step - loss: 0.0047 - accuracy: 0.9997 - val_loss: 0.0238 - val_accuracy: 0.9943\n",
            "Epoch 10/100\n",
            "116/116 [==============================] - 0s 3ms/step - loss: 0.0030 - accuracy: 1.0000 - val_loss: 0.0200 - val_accuracy: 0.9967\n",
            "Epoch 11/100\n",
            "116/116 [==============================] - 0s 3ms/step - loss: 0.0021 - accuracy: 1.0000 - val_loss: 0.0202 - val_accuracy: 0.9959\n",
            "Epoch 12/100\n",
            "116/116 [==============================] - 0s 3ms/step - loss: 0.0017 - accuracy: 1.0000 - val_loss: 0.0193 - val_accuracy: 0.9967\n",
            "Epoch 13/100\n",
            "116/116 [==============================] - 0s 3ms/step - loss: 0.0013 - accuracy: 1.0000 - val_loss: 0.0200 - val_accuracy: 0.9951\n",
            "Epoch 14/100\n",
            "116/116 [==============================] - 0s 3ms/step - loss: 0.0010 - accuracy: 1.0000 - val_loss: 0.0188 - val_accuracy: 0.9967\n",
            "Epoch 15/100\n",
            "116/116 [==============================] - 0s 3ms/step - loss: 8.4696e-04 - accuracy: 1.0000 - val_loss: 0.0190 - val_accuracy: 0.9967\n",
            "Epoch 16/100\n",
            "116/116 [==============================] - 0s 3ms/step - loss: 7.2639e-04 - accuracy: 1.0000 - val_loss: 0.0190 - val_accuracy: 0.9967\n",
            "Epoch 17/100\n",
            "116/116 [==============================] - 0s 3ms/step - loss: 6.5398e-04 - accuracy: 1.0000 - val_loss: 0.0203 - val_accuracy: 0.9959\n",
            "Epoch 18/100\n",
            "116/116 [==============================] - 0s 3ms/step - loss: 6.2684e-04 - accuracy: 1.0000 - val_loss: 0.0204 - val_accuracy: 0.9959\n",
            "Epoch 19/100\n",
            "116/116 [==============================] - 0s 3ms/step - loss: 4.2225e-04 - accuracy: 1.0000 - val_loss: 0.0195 - val_accuracy: 0.9959\n",
            "Epoch 20/100\n",
            "116/116 [==============================] - 0s 3ms/step - loss: 3.6725e-04 - accuracy: 1.0000 - val_loss: 0.0198 - val_accuracy: 0.9959\n",
            "Epoch 21/100\n",
            "116/116 [==============================] - 0s 3ms/step - loss: 3.1593e-04 - accuracy: 1.0000 - val_loss: 0.0187 - val_accuracy: 0.9959\n",
            "Epoch 22/100\n",
            "116/116 [==============================] - 0s 3ms/step - loss: 2.9047e-04 - accuracy: 1.0000 - val_loss: 0.0193 - val_accuracy: 0.9959\n",
            "Epoch 23/100\n",
            "116/116 [==============================] - 0s 3ms/step - loss: 2.4901e-04 - accuracy: 1.0000 - val_loss: 0.0186 - val_accuracy: 0.9967\n",
            "Epoch 24/100\n",
            "116/116 [==============================] - 0s 3ms/step - loss: 2.1181e-04 - accuracy: 1.0000 - val_loss: 0.0194 - val_accuracy: 0.9959\n",
            "Epoch 25/100\n",
            "116/116 [==============================] - 0s 3ms/step - loss: 1.9215e-04 - accuracy: 1.0000 - val_loss: 0.0182 - val_accuracy: 0.9967\n",
            "Epoch 26/100\n",
            "116/116 [==============================] - 0s 3ms/step - loss: 1.7145e-04 - accuracy: 1.0000 - val_loss: 0.0182 - val_accuracy: 0.9967\n",
            "Epoch 27/100\n",
            "116/116 [==============================] - 0s 3ms/step - loss: 1.5581e-04 - accuracy: 1.0000 - val_loss: 0.0191 - val_accuracy: 0.9959\n",
            "Epoch 28/100\n",
            "116/116 [==============================] - 0s 3ms/step - loss: 1.3772e-04 - accuracy: 1.0000 - val_loss: 0.0190 - val_accuracy: 0.9959\n",
            "Epoch 29/100\n",
            "116/116 [==============================] - 0s 4ms/step - loss: 1.2558e-04 - accuracy: 1.0000 - val_loss: 0.0186 - val_accuracy: 0.9967\n",
            "Epoch 30/100\n",
            "116/116 [==============================] - 1s 5ms/step - loss: 1.1223e-04 - accuracy: 1.0000 - val_loss: 0.0186 - val_accuracy: 0.9959\n",
            "Epoch 31/100\n",
            "116/116 [==============================] - 1s 4ms/step - loss: 1.0245e-04 - accuracy: 1.0000 - val_loss: 0.0183 - val_accuracy: 0.9967\n",
            "Epoch 32/100\n",
            "116/116 [==============================] - 1s 4ms/step - loss: 9.2660e-05 - accuracy: 1.0000 - val_loss: 0.0186 - val_accuracy: 0.9959\n",
            "Epoch 33/100\n",
            "116/116 [==============================] - 0s 4ms/step - loss: 8.3252e-05 - accuracy: 1.0000 - val_loss: 0.0184 - val_accuracy: 0.9959\n",
            "Epoch 34/100\n",
            "116/116 [==============================] - 0s 3ms/step - loss: 7.7741e-05 - accuracy: 1.0000 - val_loss: 0.0188 - val_accuracy: 0.9959\n",
            "Epoch 35/100\n",
            "116/116 [==============================] - 0s 3ms/step - loss: 6.9833e-05 - accuracy: 1.0000 - val_loss: 0.0186 - val_accuracy: 0.9959\n",
            "Epoch 36/100\n",
            "116/116 [==============================] - 0s 3ms/step - loss: 6.3701e-05 - accuracy: 1.0000 - val_loss: 0.0184 - val_accuracy: 0.9959\n",
            "Epoch 37/100\n",
            "116/116 [==============================] - 0s 3ms/step - loss: 5.7906e-05 - accuracy: 1.0000 - val_loss: 0.0183 - val_accuracy: 0.9967\n",
            "Epoch 38/100\n",
            "116/116 [==============================] - 0s 3ms/step - loss: 5.2628e-05 - accuracy: 1.0000 - val_loss: 0.0182 - val_accuracy: 0.9967\n",
            "Epoch 39/100\n",
            "116/116 [==============================] - 0s 3ms/step - loss: 4.8880e-05 - accuracy: 1.0000 - val_loss: 0.0185 - val_accuracy: 0.9959\n",
            "Epoch 40/100\n",
            "116/116 [==============================] - 0s 3ms/step - loss: 4.4393e-05 - accuracy: 1.0000 - val_loss: 0.0187 - val_accuracy: 0.9967\n",
            "Epoch 41/100\n",
            "116/116 [==============================] - 0s 3ms/step - loss: 4.0352e-05 - accuracy: 1.0000 - val_loss: 0.0184 - val_accuracy: 0.9967\n",
            "Epoch 42/100\n",
            "116/116 [==============================] - 0s 3ms/step - loss: 3.7962e-05 - accuracy: 1.0000 - val_loss: 0.0176 - val_accuracy: 0.9967\n",
            "Epoch 43/100\n",
            "116/116 [==============================] - 0s 3ms/step - loss: 3.4301e-05 - accuracy: 1.0000 - val_loss: 0.0185 - val_accuracy: 0.9959\n",
            "Epoch 44/100\n",
            "116/116 [==============================] - 0s 3ms/step - loss: 3.1407e-05 - accuracy: 1.0000 - val_loss: 0.0187 - val_accuracy: 0.9959\n",
            "Epoch 45/100\n",
            "116/116 [==============================] - 0s 3ms/step - loss: 2.9024e-05 - accuracy: 1.0000 - val_loss: 0.0183 - val_accuracy: 0.9959\n",
            "Epoch 46/100\n",
            "116/116 [==============================] - 0s 3ms/step - loss: 2.6679e-05 - accuracy: 1.0000 - val_loss: 0.0180 - val_accuracy: 0.9967\n",
            "Epoch 47/100\n",
            "116/116 [==============================] - 0s 3ms/step - loss: 2.4249e-05 - accuracy: 1.0000 - val_loss: 0.0187 - val_accuracy: 0.9967\n",
            "Epoch 48/100\n",
            "116/116 [==============================] - 0s 3ms/step - loss: 2.2095e-05 - accuracy: 1.0000 - val_loss: 0.0184 - val_accuracy: 0.9959\n",
            "Epoch 49/100\n",
            "116/116 [==============================] - 0s 3ms/step - loss: 2.1212e-05 - accuracy: 1.0000 - val_loss: 0.0179 - val_accuracy: 0.9967\n",
            "Epoch 50/100\n",
            "116/116 [==============================] - 0s 3ms/step - loss: 1.9296e-05 - accuracy: 1.0000 - val_loss: 0.0180 - val_accuracy: 0.9967\n",
            "Epoch 51/100\n",
            "116/116 [==============================] - 0s 3ms/step - loss: 1.8103e-05 - accuracy: 1.0000 - val_loss: 0.0182 - val_accuracy: 0.9967\n",
            "Epoch 52/100\n",
            "116/116 [==============================] - 0s 3ms/step - loss: 1.6339e-05 - accuracy: 1.0000 - val_loss: 0.0183 - val_accuracy: 0.9959\n",
            "Epoch 53/100\n",
            "116/116 [==============================] - 0s 3ms/step - loss: 1.5148e-05 - accuracy: 1.0000 - val_loss: 0.0186 - val_accuracy: 0.9967\n",
            "Epoch 54/100\n",
            "116/116 [==============================] - 0s 3ms/step - loss: 1.4206e-05 - accuracy: 1.0000 - val_loss: 0.0182 - val_accuracy: 0.9959\n",
            "Epoch 55/100\n",
            "116/116 [==============================] - 0s 3ms/step - loss: 1.3101e-05 - accuracy: 1.0000 - val_loss: 0.0186 - val_accuracy: 0.9959\n",
            "Epoch 56/100\n",
            "116/116 [==============================] - 0s 3ms/step - loss: 1.2253e-05 - accuracy: 1.0000 - val_loss: 0.0180 - val_accuracy: 0.9976\n",
            "Epoch 57/100\n",
            "116/116 [==============================] - 0s 3ms/step - loss: 1.1207e-05 - accuracy: 1.0000 - val_loss: 0.0180 - val_accuracy: 0.9967\n",
            "Epoch 58/100\n",
            "116/116 [==============================] - 0s 3ms/step - loss: 1.0288e-05 - accuracy: 1.0000 - val_loss: 0.0183 - val_accuracy: 0.9967\n",
            "Epoch 59/100\n",
            "116/116 [==============================] - 0s 2ms/step - loss: 9.4135e-06 - accuracy: 1.0000 - val_loss: 0.0187 - val_accuracy: 0.9959\n",
            "Epoch 60/100\n",
            "116/116 [==============================] - 0s 3ms/step - loss: 9.0423e-06 - accuracy: 1.0000 - val_loss: 0.0185 - val_accuracy: 0.9959\n",
            "Epoch 61/100\n",
            "116/116 [==============================] - 0s 3ms/step - loss: 8.3773e-06 - accuracy: 1.0000 - val_loss: 0.0180 - val_accuracy: 0.9967\n",
            "Epoch 62/100\n",
            "116/116 [==============================] - 0s 3ms/step - loss: 7.7070e-06 - accuracy: 1.0000 - val_loss: 0.0186 - val_accuracy: 0.9959\n",
            "Epoch 63/100\n",
            "116/116 [==============================] - 0s 3ms/step - loss: 7.0150e-06 - accuracy: 1.0000 - val_loss: 0.0182 - val_accuracy: 0.9976\n",
            "Epoch 64/100\n",
            "116/116 [==============================] - 0s 3ms/step - loss: 6.7664e-06 - accuracy: 1.0000 - val_loss: 0.0179 - val_accuracy: 0.9976\n",
            "Epoch 65/100\n",
            "116/116 [==============================] - 1s 5ms/step - loss: 6.0611e-06 - accuracy: 1.0000 - val_loss: 0.0183 - val_accuracy: 0.9976\n",
            "Epoch 66/100\n",
            "116/116 [==============================] - 1s 5ms/step - loss: 5.7175e-06 - accuracy: 1.0000 - val_loss: 0.0183 - val_accuracy: 0.9967\n",
            "Epoch 67/100\n",
            "116/116 [==============================] - 0s 4ms/step - loss: 5.3211e-06 - accuracy: 1.0000 - val_loss: 0.0186 - val_accuracy: 0.9967\n",
            "Epoch 68/100\n",
            "116/116 [==============================] - 1s 5ms/step - loss: 4.9062e-06 - accuracy: 1.0000 - val_loss: 0.0183 - val_accuracy: 0.9976\n",
            "Epoch 69/100\n",
            "116/116 [==============================] - 0s 3ms/step - loss: 4.5365e-06 - accuracy: 1.0000 - val_loss: 0.0184 - val_accuracy: 0.9967\n",
            "Epoch 70/100\n",
            "116/116 [==============================] - 0s 3ms/step - loss: 4.2734e-06 - accuracy: 1.0000 - val_loss: 0.0180 - val_accuracy: 0.9976\n",
            "Epoch 71/100\n",
            "116/116 [==============================] - 0s 3ms/step - loss: 3.9158e-06 - accuracy: 1.0000 - val_loss: 0.0182 - val_accuracy: 0.9976\n",
            "Epoch 72/100\n",
            "116/116 [==============================] - 0s 3ms/step - loss: 3.6320e-06 - accuracy: 1.0000 - val_loss: 0.0186 - val_accuracy: 0.9976\n",
            "Epoch 73/100\n",
            "116/116 [==============================] - 0s 2ms/step - loss: 3.4161e-06 - accuracy: 1.0000 - val_loss: 0.0184 - val_accuracy: 0.9959\n",
            "Epoch 74/100\n",
            "116/116 [==============================] - 0s 3ms/step - loss: 3.2159e-06 - accuracy: 1.0000 - val_loss: 0.0181 - val_accuracy: 0.9976\n",
            "Epoch 75/100\n",
            "116/116 [==============================] - 0s 3ms/step - loss: 2.9688e-06 - accuracy: 1.0000 - val_loss: 0.0185 - val_accuracy: 0.9976\n",
            "Epoch 76/100\n",
            "116/116 [==============================] - 0s 2ms/step - loss: 2.7328e-06 - accuracy: 1.0000 - val_loss: 0.0181 - val_accuracy: 0.9959\n",
            "Epoch 77/100\n",
            "116/116 [==============================] - 0s 3ms/step - loss: 2.5529e-06 - accuracy: 1.0000 - val_loss: 0.0183 - val_accuracy: 0.9959\n",
            "Epoch 78/100\n",
            "116/116 [==============================] - 0s 3ms/step - loss: 2.3931e-06 - accuracy: 1.0000 - val_loss: 0.0182 - val_accuracy: 0.9959\n",
            "Epoch 79/100\n",
            "116/116 [==============================] - 0s 3ms/step - loss: 2.2272e-06 - accuracy: 1.0000 - val_loss: 0.0181 - val_accuracy: 0.9976\n",
            "Epoch 80/100\n",
            "116/116 [==============================] - 0s 3ms/step - loss: 2.0993e-06 - accuracy: 1.0000 - val_loss: 0.0178 - val_accuracy: 0.9976\n",
            "Epoch 81/100\n",
            "116/116 [==============================] - 0s 3ms/step - loss: 1.9429e-06 - accuracy: 1.0000 - val_loss: 0.0186 - val_accuracy: 0.9967\n",
            "Epoch 82/100\n",
            "116/116 [==============================] - 0s 2ms/step - loss: 1.8049e-06 - accuracy: 1.0000 - val_loss: 0.0183 - val_accuracy: 0.9976\n",
            "Epoch 83/100\n",
            "116/116 [==============================] - 0s 3ms/step - loss: 1.6957e-06 - accuracy: 1.0000 - val_loss: 0.0185 - val_accuracy: 0.9959\n",
            "Epoch 84/100\n",
            "116/116 [==============================] - 0s 3ms/step - loss: 1.5620e-06 - accuracy: 1.0000 - val_loss: 0.0184 - val_accuracy: 0.9976\n",
            "Epoch 85/100\n",
            "116/116 [==============================] - 0s 3ms/step - loss: 1.4606e-06 - accuracy: 1.0000 - val_loss: 0.0180 - val_accuracy: 0.9976\n",
            "Epoch 86/100\n",
            "116/116 [==============================] - 0s 3ms/step - loss: 1.3463e-06 - accuracy: 1.0000 - val_loss: 0.0183 - val_accuracy: 0.9959\n",
            "Epoch 87/100\n",
            "116/116 [==============================] - 0s 3ms/step - loss: 1.2542e-06 - accuracy: 1.0000 - val_loss: 0.0183 - val_accuracy: 0.9967\n",
            "Epoch 88/100\n",
            "116/116 [==============================] - 0s 3ms/step - loss: 1.1884e-06 - accuracy: 1.0000 - val_loss: 0.0184 - val_accuracy: 0.9976\n",
            "Epoch 89/100\n",
            "116/116 [==============================] - 0s 3ms/step - loss: 1.1205e-06 - accuracy: 1.0000 - val_loss: 0.0182 - val_accuracy: 0.9959\n",
            "Epoch 90/100\n",
            "116/116 [==============================] - 0s 3ms/step - loss: 1.0396e-06 - accuracy: 1.0000 - val_loss: 0.0183 - val_accuracy: 0.9976\n",
            "Epoch 91/100\n",
            "116/116 [==============================] - 0s 3ms/step - loss: 9.5463e-07 - accuracy: 1.0000 - val_loss: 0.0183 - val_accuracy: 0.9976\n",
            "Epoch 92/100\n",
            "116/116 [==============================] - 0s 2ms/step - loss: 8.9002e-07 - accuracy: 1.0000 - val_loss: 0.0185 - val_accuracy: 0.9959\n",
            "Epoch 93/100\n",
            "116/116 [==============================] - 0s 3ms/step - loss: 8.3818e-07 - accuracy: 1.0000 - val_loss: 0.0181 - val_accuracy: 0.9976\n",
            "Epoch 94/100\n",
            "116/116 [==============================] - 0s 3ms/step - loss: 7.8193e-07 - accuracy: 1.0000 - val_loss: 0.0184 - val_accuracy: 0.9976\n",
            "Epoch 95/100\n",
            "116/116 [==============================] - 0s 3ms/step - loss: 7.1583e-07 - accuracy: 1.0000 - val_loss: 0.0180 - val_accuracy: 0.9976\n",
            "Epoch 96/100\n",
            "116/116 [==============================] - 0s 3ms/step - loss: 6.7499e-07 - accuracy: 1.0000 - val_loss: 0.0181 - val_accuracy: 0.9967\n",
            "Epoch 97/100\n",
            "116/116 [==============================] - 0s 3ms/step - loss: 6.2609e-07 - accuracy: 1.0000 - val_loss: 0.0182 - val_accuracy: 0.9967\n",
            "Epoch 98/100\n",
            "116/116 [==============================] - 0s 2ms/step - loss: 5.9122e-07 - accuracy: 1.0000 - val_loss: 0.0177 - val_accuracy: 0.9976\n",
            "Epoch 99/100\n",
            "116/116 [==============================] - 0s 3ms/step - loss: 5.3710e-07 - accuracy: 1.0000 - val_loss: 0.0188 - val_accuracy: 0.9959\n",
            "Epoch 100/100\n",
            "116/116 [==============================] - 1s 4ms/step - loss: 5.1320e-07 - accuracy: 1.0000 - val_loss: 0.0178 - val_accuracy: 0.9976\n"
          ]
        }
      ]
    },
    {
      "cell_type": "code",
      "source": [
        "plt.plot(history.history['loss'])\n",
        "plt.plot(history.history['val_loss'])\n",
        "plt.title('model loss')\n",
        "plt.ylabel('loss')\n",
        "plt.xlabel('epoch')\n",
        "plt.legend(['train'])\n",
        "plt.show()"
      ],
      "metadata": {
        "colab": {
          "base_uri": "https://localhost:8080/",
          "height": 472
        },
        "id": "2opSem6chJNU",
        "outputId": "5deb1155-cf6f-4a6d-fb82-78b040a3d64b"
      },
      "execution_count": 194,
      "outputs": [
        {
          "output_type": "display_data",
          "data": {
            "text/plain": [
              "<Figure size 640x480 with 1 Axes>"
            ],
            "image/png": "[encoded data removed]"
          },
          "metadata": {}
        }
      ]
    },
    {
      "cell_type": "code",
      "source": [
        "model.evaluate(x_test, y_test)"
      ],
      "metadata": {
        "colab": {
          "base_uri": "https://localhost:8080/"
        },
        "id": "3pY-2x-5vUCN",
        "outputId": "5385d7c6-83f4-4555-bb9b-a43713769823"
      },
      "execution_count": 195,
      "outputs": [
        {
          "output_type": "stream",
          "name": "stdout",
          "text": [
            "39/39 [==============================] - 0s 2ms/step - loss: 0.0357 - accuracy: 0.9927\n"
          ]
        },
        {
          "output_type": "execute_result",
          "data": {
            "text/plain": [
              "[0.03573903441429138, 0.992671012878418]"
            ]
          },
          "metadata": {},
          "execution_count": 195
        }
      ]
    },
    {
      "cell_type": "code",
      "source": [
        "y_pred = model.predict(x_test)\n",
        "y_true = y_test\n",
        "\n",
        "# Convert one-hot encoded labels back to integer labels\n",
        "y_pred_classes = np.argmax(y_pred, axis=1)\n",
        "y_true_classes = np.argmax(y_true, axis=1)\n",
        "\n",
        "# Generate the classification report\n",
        "report = classification_report(y_true_classes, y_pred_classes)\n",
        "\n",
        "# Print the classification report\n",
        "print(report)"
      ],
      "metadata": {
        "colab": {
          "base_uri": "https://localhost:8080/"
        },
        "id": "Dg1nXUu5AcfO",
        "outputId": "d2c5de3e-2b2d-437a-be18-7f2a84e4d350"
      },
      "execution_count": 196,
      "outputs": [
        {
          "output_type": "stream",
          "name": "stdout",
          "text": [
            "39/39 [==============================] - 0s 2ms/step\n",
            "              precision    recall  f1-score   support\n",
            "\n",
            "           0       1.00      0.98      0.99        45\n",
            "           1       1.00      1.00      1.00       303\n",
            "           2       0.99      0.98      0.99       239\n",
            "           3       0.99      1.00      1.00       206\n",
            "           4       0.99      0.99      0.99       435\n",
            "\n",
            "    accuracy                           0.99      1228\n",
            "   macro avg       0.99      0.99      0.99      1228\n",
            "weighted avg       0.99      0.99      0.99      1228\n",
            "\n"
          ]
        }
      ]
    },
    {
      "cell_type": "code",
      "source": [
        "conf_matrix = confusion_matrix(y_true_classes, y_pred_classes)\n",
        "\n",
        "# Plot the confusion matrix using seaborn\n",
        "plt.figure(figsize=(8, 6))\n",
        "sns.heatmap(conf_matrix, annot=True, fmt='d', cmap='Blues', xticklabels=classes, yticklabels=classes)\n",
        "plt.xlabel('Predicted')\n",
        "plt.ylabel('True')\n",
        "plt.title('Confusion Matrix')\n",
        "plt.show()"
      ],
      "metadata": {
        "colab": {
          "base_uri": "https://localhost:8080/",
          "height": 564
        },
        "id": "KJWHQcBGB3wO",
        "outputId": "3bad285e-e116-4e6b-d531-dfef5ad837f6"
      },
      "execution_count": 197,
      "outputs": [
        {
          "output_type": "display_data",
          "data": {
            "text/plain": [
              "<Figure size 800x600 with 2 Axes>"
            ],
            "image/png": "[encoded data removed]"
          },
          "metadata": {}
        }
      ]
    },
    {
      "cell_type": "code",
      "source": [
        "predicted_labels = np.argmax(y_pred, axis=1)\n",
        "class_labels = ['N', 'O', 'L1', 'L2', 'L3']\n",
        "\n",
        "# Map indices to class labels\n",
        "predicted_class_labels = [class_labels[idx] for idx in predicted_labels]\n",
        "print(predicted_class_labels)"
      ],
      "metadata": {
        "colab": {
          "base_uri": "https://localhost:8080/"
        },
        "id": "euMqfZOGEpq1",
        "outputId": "ae8321cf-3b94-4d53-9bb8-4bd182acac56"
      },
      "execution_count": 204,
      "outputs": [
        {
          "output_type": "stream",
          "name": "stdout",
          "text": [
            "['L3', 'L2', 'O', 'L2', 'O', 'L1', 'L2', 'L3', 'L3', 'O', 'O', 'L1', 'L2', 'O', 'L2', 'L1', 'L1', 'L3', 'L3', 'L3', 'L3', 'O', 'O', 'L1', 'L1', 'L2', 'L1', 'L2', 'O', 'N', 'L1', 'L3', 'L3', 'N', 'L3', 'L3', 'L3', 'L2', 'L3', 'L3', 'L3', 'O', 'L1', 'L1', 'O', 'L2', 'O', 'L1', 'L1', 'L2', 'N', 'L3', 'L3', 'L1', 'L3', 'N', 'L1', 'L1', 'L3', 'N', 'N', 'L3', 'L3', 'L3', 'L3', 'L3', 'O', 'L2', 'L3', 'L3', 'L3', 'L3', 'L2', 'L3', 'O', 'L2', 'L1', 'L2', 'O', 'O', 'L1', 'O', 'L3', 'O', 'L3', 'O', 'L3', 'O', 'L3', 'L3', 'L3', 'O', 'L3', 'O', 'L1', 'L3', 'L3', 'L3', 'L3', 'O', 'O', 'L1', 'L3', 'L2', 'L3', 'L1', 'L1', 'L3', 'O', 'L1', 'L2', 'L2', 'L1', 'L2', 'O', 'L1', 'L3', 'O', 'O', 'L3', 'L3', 'L3', 'L3', 'L3', 'L1', 'L3', 'L3', 'L3', 'O', 'L3', 'O', 'L2', 'L1', 'L2', 'O', 'L2', 'L1', 'L2', 'L3', 'O', 'L3', 'L2', 'L3', 'L1', 'L1', 'L1', 'L1', 'L2', 'L3', 'O', 'L1', 'L3', 'L2', 'L3', 'L3', 'L2', 'O', 'L1', 'L1', 'L2', 'L3', 'O', 'L1', 'L3', 'L2', 'L3', 'L1', 'O', 'L2', 'L2', 'O', 'L3', 'L2', 'L1', 'L1', 'L1', 'L2', 'L3', 'O', 'O', 'L3', 'L2', 'N', 'L1', 'L1', 'L2', 'L3', 'L3', 'O', 'O', 'O', 'L3', 'L2', 'L3', 'L3', 'L2', 'L3', 'L2', 'L1', 'O', 'L3', 'L2', 'O', 'L3', 'L3', 'L1', 'L3', 'N', 'O', 'L1', 'O', 'L3', 'L2', 'O', 'L3', 'O', 'O', 'L2', 'O', 'L1', 'L3', 'L2', 'L3', 'L3', 'L3', 'L2', 'L3', 'L2', 'L3', 'L2', 'L1', 'O', 'L3', 'O', 'L3', 'L3', 'L3', 'L3', 'L2', 'L3', 'L3', 'L3', 'L3', 'L3', 'O', 'N', 'L3', 'L3', 'L2', 'L1', 'L1', 'O', 'O', 'L2', 'L2', 'O', 'L3', 'O', 'L2', 'O', 'L3', 'L2', 'L1', 'O', 'O', 'L3', 'O', 'O', 'L1', 'L2', 'L2', 'L1', 'L3', 'L1', 'L1', 'O', 'L2', 'O', 'L2', 'L1', 'L2', 'L3', 'L1', 'O', 'L2', 'L1', 'L3', 'O', 'L3', 'N', 'L3', 'L1', 'L3', 'L2', 'L3', 'L3', 'O', 'L1', 'L2', 'L3', 'L3', 'L3', 'L3', 'L2', 'L3', 'L3', 'O', 'L2', 'L3', 'L2', 'L1', 'L2', 'L3', 'L2', 'O', 'L3', 'O', 'O', 'L1', 'O', 'L1', 'L3', 'L1', 'L3', 'L3', 'L3', 'L1', 'L1', 'L1', 'L1', 'L2', 'O', 'L2', 'O', 'O', 'L2', 'L3', 'L3', 'L2', 'L1', 'L1', 'L1', 'O', 'L1', 'O', 'L2', 'N', 'O', 'L1', 'L1', 'L2', 'L3', 'L3', 'L3', 'L3', 'N', 'L2', 'O', 'O', 'L1', 'L3', 'O', 'L3', 'L1', 'L1', 'O', 'L1', 'L1', 'L2', 'L3', 'L2', 'L1', 'L3', 'L3', 'L3', 'L3', 'N', 'L2', 'L2', 'L1', 'L3', 'O', 'O', 'L3', 'L1', 'L3', 'L2', 'L3', 'L2', 'L3', 'L1', 'L1', 'O', 'O', 'O', 'L3', 'L3', 'L3', 'L1', 'L1', 'L3', 'O', 'L1', 'L3', 'N', 'L3', 'L3', 'L3', 'L1', 'L2', 'O', 'L1', 'O', 'L1', 'L1', 'O', 'O', 'O', 'O', 'L3', 'N', 'O', 'L3', 'L2', 'O', 'L2', 'O', 'L1', 'L2', 'L2', 'L3', 'L3', 'O', 'L3', 'L1', 'L2', 'L3', 'L1', 'L1', 'L1', 'O', 'O', 'L2', 'O', 'L3', 'O', 'O', 'L3', 'L1', 'O', 'O', 'N', 'L3', 'L3', 'L3', 'L3', 'L3', 'L3', 'L2', 'L2', 'L3', 'L1', 'O', 'O', 'O', 'L1', 'L2', 'L3', 'L1', 'O', 'O', 'L1', 'L1', 'O', 'L3', 'L3', 'L2', 'L3', 'L2', 'L1', 'O', 'L3', 'L1', 'L1', 'L3', 'O', 'O', 'L1', 'L3', 'L1', 'L3', 'L3', 'L3', 'O', 'L1', 'L3', 'L2', 'O', 'L3', 'L1', 'L3', 'L3', 'L1', 'L3', 'O', 'L3', 'O', 'L3', 'L3', 'O', 'N', 'L3', 'L1', 'O', 'O', 'O', 'O', 'O', 'L3', 'O', 'L2', 'L1', 'L2', 'O', 'L2', 'L1', 'L1', 'L3', 'L3', 'O', 'L1', 'O', 'N', 'O', 'L2', 'L1', 'O', 'L2', 'L1', 'L3', 'O', 'O', 'O', 'N', 'L3', 'L3', 'O', 'L3', 'L1', 'N', 'L3', 'L3', 'L3', 'O', 'L3', 'O', 'L3', 'L1', 'L3', 'L1', 'L3', 'O', 'L3', 'L2', 'O', 'L2', 'L2', 'O', 'O', 'L2', 'L3', 'N', 'O', 'L2', 'L3', 'O', 'L2', 'O', 'L1', 'L3', 'L3', 'L3', 'L3', 'O', 'N', 'L2', 'L1', 'O', 'L1', 'L3', 'O', 'N', 'O', 'L3', 'O', 'L1', 'L3', 'O', 'O', 'L3', 'L3', 'L2', 'N', 'O', 'O', 'L1', 'L2', 'O', 'O', 'L3', 'L3', 'O', 'L1', 'O', 'L1', 'N', 'L1', 'O', 'L3', 'L2', 'L3', 'L3', 'L3', 'L1', 'L3', 'L3', 'L3', 'L1', 'L2', 'L3', 'L1', 'L2', 'L3', 'L1', 'L3', 'L3', 'L2', 'L1', 'O', 'O', 'L3', 'O', 'N', 'L1', 'L1', 'O', 'L3', 'L2', 'L3', 'O', 'L1', 'L3', 'L3', 'O', 'L2', 'L3', 'L1', 'O', 'L3', 'L1', 'L1', 'L3', 'O', 'L1', 'O', 'L3', 'L1', 'L3', 'L1', 'O', 'L3', 'L3', 'O', 'L3', 'L3', 'L1', 'O', 'L1', 'O', 'O', 'L3', 'O', 'L2', 'L1', 'L2', 'L3', 'L3', 'L3', 'L3', 'L3', 'L2', 'L3', 'L3', 'L3', 'L1', 'L2', 'L3', 'L2', 'O', 'L2', 'L3', 'L2', 'O', 'L3', 'L3', 'L3', 'O', 'L3', 'O', 'O', 'L3', 'L1', 'L1', 'L1', 'L2', 'L2', 'L1', 'L1', 'L3', 'L1', 'L1', 'O', 'L3', 'N', 'L2', 'O', 'L1', 'L3', 'L3', 'L3', 'O', 'L2', 'O', 'O', 'L3', 'L3', 'L1', 'L2', 'L1', 'O', 'O', 'L3', 'O', 'L1', 'L3', 'L2', 'L3', 'O', 'L3', 'L3', 'L1', 'L2', 'L3', 'L1', 'L2', 'L1', 'L3', 'L2', 'O', 'L1', 'L3', 'O', 'O', 'O', 'L1', 'O', 'L3', 'O', 'O', 'L1', 'O', 'N', 'L3', 'L3', 'L2', 'L3', 'O', 'L2', 'L3', 'L1', 'N', 'L3', 'L2', 'L1', 'L2', 'O', 'O', 'L2', 'O', 'L3', 'L3', 'L3', 'L1', 'L1', 'O', 'O', 'L3', 'L3', 'L2', 'L3', 'L3', 'L3', 'L1', 'L3', 'L2', 'L3', 'O', 'L3', 'L2', 'L1', 'L3', 'L3', 'L2', 'L2', 'L2', 'O', 'L1', 'L2', 'L3', 'L1', 'L2', 'L2', 'O', 'L3', 'O', 'L2', 'L3', 'L3', 'O', 'L3', 'L3', 'L2', 'O', 'O', 'L2', 'L1', 'L3', 'L3', 'L3', 'L3', 'L2', 'L3', 'L2', 'L3', 'L3', 'L2', 'L3', 'L3', 'O', 'L3', 'L3', 'L3', 'L2', 'L1', 'L3', 'O', 'L3', 'L1', 'L1', 'L3', 'L3', 'L3', 'L1', 'O', 'L3', 'L1', 'L3', 'O', 'L1', 'O', 'L3', 'L1', 'L3', 'L3', 'L3', 'L3', 'L1', 'L2', 'L3', 'L3', 'O', 'L3', 'L3', 'L3', 'L1', 'L3', 'O', 'O', 'L3', 'O', 'L3', 'O', 'O', 'L2', 'L3', 'L3', 'L3', 'L1', 'O', 'O', 'L2', 'L3', 'L3', 'L3', 'O', 'L3', 'O', 'L3', 'L2', 'L3', 'L1', 'N', 'L2', 'L1', 'L2', 'L2', 'N', 'L3', 'O', 'L3', 'O', 'L1', 'L3', 'L1', 'L3', 'O', 'L3', 'L1', 'L3', 'L3', 'L2', 'L1', 'L3', 'L3', 'L3', 'L2', 'L2', 'O', 'L1', 'O', 'L2', 'L2', 'N', 'O', 'L3', 'O', 'L2', 'O', 'O', 'L3', 'L3', 'O', 'L3', 'O', 'L2', 'O', 'L3', 'L2', 'L3', 'O', 'N', 'L2', 'L3', 'L1', 'L3', 'L3', 'L1', 'L3', 'O', 'L2', 'O', 'L1', 'O', 'L2', 'L3', 'L3', 'L3', 'L2', 'L3', 'L3', 'L1', 'L3', 'L1', 'O', 'L3', 'L1', 'L2', 'O', 'O', 'O', 'L2', 'L1', 'L1', 'L3', 'L3', 'L3', 'O', 'L2', 'L3', 'L2', 'O', 'L3', 'O', 'L3', 'L3', 'L2', 'L2', 'N', 'L2', 'L3', 'L2', 'L3', 'O', 'O', 'O', 'L3', 'L2', 'O', 'L2', 'L2', 'L3', 'O', 'O', 'L3', 'L3', 'O', 'L1', 'O', 'L3', 'L1', 'L1', 'O', 'N', 'L3', 'L1', 'L3', 'L3', 'L3', 'L3', 'N', 'L3', 'O', 'L1', 'O', 'L1', 'O', 'L3', 'L3', 'L1', 'L2', 'L3', 'L2', 'L3', 'L3', 'O', 'L3', 'O', 'N', 'L3', 'N', 'L2', 'L2', 'L3', 'L3', 'O', 'L2', 'L3', 'L3', 'L1', 'O', 'N', 'O', 'L1', 'L3', 'L1', 'L3', 'O', 'L3', 'L2', 'O', 'L3', 'L1', 'O', 'L3', 'L1', 'L3', 'L1', 'L1', 'N', 'L2', 'L3', 'L2', 'L2', 'O', 'L1', 'L1', 'L2', 'L2', 'L2', 'O', 'L2', 'O', 'L3', 'L3', 'L2', 'L1', 'L2', 'O', 'N', 'L3', 'L3', 'L2', 'O', 'L2', 'L1', 'O', 'L3', 'L3', 'L1', 'L2', 'L2', 'O', 'L1', 'L1', 'L1', 'O', 'L2', 'L3', 'O', 'L2', 'O', 'O', 'O', 'L3', 'L3', 'L3', 'L1', 'O', 'L2', 'O', 'L3', 'L3', 'L3', 'L2', 'O', 'L3', 'O', 'L2', 'O', 'L3', 'O', 'L2', 'L2', 'L2', 'L1', 'O', 'L3', 'O', 'L1', 'O', 'L1', 'O', 'L2', 'L3', 'O', 'L1', 'L3', 'L3', 'L3', 'O', 'L2', 'L3', 'O', 'O', 'O', 'L3', 'L3', 'L1', 'L3', 'O', 'O', 'O', 'L3', 'L1', 'L3', 'L1', 'L1', 'O', 'L1', 'O', 'O', 'O', 'L3', 'L3', 'N', 'O', 'L3', 'L1', 'L1', 'L3', 'L1', 'O', 'L3', 'L3', 'L1', 'N', 'L3', 'L3', 'L1', 'N', 'L3', 'L3', 'O', 'L3', 'L2', 'L3', 'L3', 'O', 'L1', 'L1', 'L3', 'L3', 'L1', 'L2', 'L1', 'O', 'L1', 'L2']\n"
          ]
        }
      ]
    }
  ]
}